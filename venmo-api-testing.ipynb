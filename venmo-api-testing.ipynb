{
 "cells": [
  {
   "cell_type": "markdown",
   "metadata": {},
   "source": [
    "### Venmo Python API\n",
    "\n",
    "This notebook goes through some of the basic usage of the venmo_api with python for usage with networking. More documentation available [here]('https://venmo.readthedocs.io/en/latest/')."
   ]
  },
  {
   "cell_type": "code",
   "execution_count": 1,
   "metadata": {},
   "outputs": [],
   "source": [
    "from venmo_api import Client \n",
    "import config #local file listing users venmo credentials"
   ]
  },
  {
   "cell_type": "code",
   "execution_count": 8,
   "metadata": {},
   "outputs": [
    {
     "name": "stdout",
     "output_type": "stream",
     "text": [
      "\u001b[93mIMPORTANT: Take a note of your device id to avoid 2-Factor-Authentication for your next login.\u001b[0m\n",
      "device-id: 86354220-15D2-2O45-00U6-3WJ02V247RQ9\n",
      "\u001b[93mIMPORTANT: Your Access Token will never expire, unless you logout using it. Take a note of it for your future use or even for logging out, you will need it.\n",
      "\u001b[0m\n",
      "\u001b[94mSuccessfully logged in.\u001b[0m\n",
      "access_token: b8750583a4f2e9b5d4ae89793b36d6787b9e0a095522440d3813b89e71600682\n"
     ]
    }
   ],
   "source": [
    "#The app must be logged in with a unique access_token. If you know your device_id you can skip two factor authentication\n",
    "#The access_token does not expire! It can be used indefinitely but unless is saved locally it is better to logout. \n",
    "#again but is best practice to logout\n",
    "access_token = Client.get_access_token(username = config.username,\n",
    "                                        password = config.password, device_id = config.device_id)\n",
    "\n"
   ]
  },
  {
   "cell_type": "code",
   "execution_count": null,
   "metadata": {},
   "outputs": [],
   "source": []
  },
  {
   "cell_type": "code",
   "execution_count": 9,
   "metadata": {},
   "outputs": [],
   "source": [
    "#This will login to the venmo client using the access_token \n",
    "venmo = Client(access_token = access_token)"
   ]
  },
  {
   "cell_type": "code",
   "execution_count": 54,
   "metadata": {},
   "outputs": [
    {
     "name": "stdout",
     "output_type": "stream",
     "text": [
      "\u001b[94mSuccessfully logged out.\u001b[0m\n"
     ]
    },
    {
     "data": {
      "text/plain": [
       "True"
      ]
     },
     "execution_count": 54,
     "metadata": {},
     "output_type": "execute_result"
    }
   ],
   "source": [
    "#This will logout of the client\n",
    "venmo.log_out(f\"Bearer {access_token}\")"
   ]
  },
  {
   "cell_type": "code",
   "execution_count": 21,
   "metadata": {},
   "outputs": [],
   "source": [
    "#Gets your user object\n",
    "user = venmo.user.get_my_profile()"
   ]
  },
  {
   "cell_type": "code",
   "execution_count": 40,
   "metadata": {},
   "outputs": [
    {
     "name": "stdout",
     "output_type": "stream",
     "text": [
      "Help on User in module venmo_api.models.user object:\n",
      "\n",
      "class User(builtins.object)\n",
      " |  User(user_id, username, first_name, last_name, display_name, phone, profile_picture_url, about, date_joined, is_group, is_active)\n",
      " |  \n",
      " |  Methods defined here:\n",
      " |  \n",
      " |  __init__(self, user_id, username, first_name, last_name, display_name, phone, profile_picture_url, about, date_joined, is_group, is_active)\n",
      " |      Initialize a new user\n",
      " |      :param user_id:\n",
      " |      :param username:\n",
      " |      :param first_name:\n",
      " |      :param last_name:\n",
      " |      :param display_name:\n",
      " |      :param phone:\n",
      " |      :param profile_picture_url:\n",
      " |      :param about:\n",
      " |      :param date_joined:\n",
      " |      :param is_group:\n",
      " |      :param is_active:\n",
      " |      :return:\n",
      " |  \n",
      " |  __str__(self)\n",
      " |      Return str(self).\n",
      " |  \n",
      " |  ----------------------------------------------------------------------\n",
      " |  Class methods defined here:\n",
      " |  \n",
      " |  from_json(json, is_profile=False) from builtins.type\n",
      " |      init a new user form JSON\n",
      " |      :param json:\n",
      " |      :param is_profile:\n",
      " |      :return:\n",
      " |  \n",
      " |  ----------------------------------------------------------------------\n",
      " |  Data descriptors defined here:\n",
      " |  \n",
      " |  __dict__\n",
      " |      dictionary for instance variables (if defined)\n",
      " |  \n",
      " |  __weakref__\n",
      " |      list of weak references to the object (if defined)\n",
      "\n"
     ]
    }
   ],
   "source": [
    "#Documentation of the user object\n",
    "help(user)"
   ]
  },
  {
   "cell_type": "code",
   "execution_count": 22,
   "metadata": {},
   "outputs": [
    {
     "data": {
      "text/plain": [
       "('Mike-Sender', '1350836974256128854')"
      ]
     },
     "execution_count": 22,
     "metadata": {},
     "output_type": "execute_result"
    }
   ],
   "source": [
    "#Example attributes\n",
    "user.username, user.id"
   ]
  },
  {
   "cell_type": "code",
   "execution_count": 12,
   "metadata": {},
   "outputs": [],
   "source": [
    "#This function returns the 50 last transat\n",
    "transactions = venmo.user.get_user_transactions(user_id = user.id)"
   ]
  },
  {
   "cell_type": "code",
   "execution_count": 49,
   "metadata": {},
   "outputs": [],
   "source": [
    "def neighbors(user_id):\n",
    "    #raise error if its not a venmo user object\n",
    "        \n",
    "    try:\n",
    "        transactions = venmo.user.get_user_transactions(user_id = user_id)\n",
    "        new_users = {transaction.target.id for transaction in transactions if transaction.target.id != user_id}.union(\\\n",
    "                {transaction.actor.id for transaction in transactions if transaction.actor.id != user_id})\n",
    "    except ValueError:\n",
    "        print(user_id)\n",
    "        new_users = []\n",
    "    return new_users\n",
    "        \n",
    "        "
   ]
  },
  {
   "cell_type": "code",
   "execution_count": 50,
   "metadata": {},
   "outputs": [],
   "source": [
    "level_1_users = {transaction.target.id for transaction in transactions if transaction.target.id != user.id}.union(\\\n",
    "                {transaction.actor.id for transaction in transactions if transaction.actor.id != user.id})\n",
    "                                    "
   ]
  },
  {
   "cell_type": "code",
   "execution_count": 51,
   "metadata": {},
   "outputs": [
    {
     "name": "stdout",
     "output_type": "stream",
     "text": [
      "1539091850067968476\n"
     ]
    }
   ],
   "source": [
    "nodes = level_1_users\n",
    "for user_id in level_1_users:\n",
    "    if user_id != None:\n",
    "        nodes = nodes.union(neighbors(user_id))\n",
    "    \n",
    "\n",
    "        "
   ]
  },
  {
   "cell_type": "code",
   "execution_count": 53,
   "metadata": {},
   "outputs": [
    {
     "data": {
      "text/plain": [
       "222"
      ]
     },
     "execution_count": 53,
     "metadata": {},
     "output_type": "execute_result"
    }
   ],
   "source": [
    "len(nodes)"
   ]
  },
  {
   "cell_type": "code",
   "execution_count": 44,
   "metadata": {},
   "outputs": [
    {
     "name": "stdout",
     "output_type": "stream",
     "text": [
      "1539091850067968476\n"
     ]
    }
   ],
   "source": [
    "neighbors('1539091850067968476')"
   ]
  },
  {
   "cell_type": "code",
   "execution_count": 48,
   "metadata": {},
   "outputs": [
    {
     "data": {
      "text/plain": [
       "'Rachel-Sender'"
      ]
     },
     "execution_count": 48,
     "metadata": {},
     "output_type": "execute_result"
    }
   ],
   "source": [
    "venmo.user.get_user(user_id = '1539091850067968476')"
   ]
  },
  {
   "cell_type": "code",
   "execution_count": 130,
   "metadata": {},
   "outputs": [],
   "source": [
    "friend = venmo.user.get_user(user_id = '1211798632005632671')\n",
    "transaction2 = venmo.user.get_user_transactions(user = friend)"
   ]
  },
  {
   "cell_type": "code",
   "execution_count": 136,
   "metadata": {},
   "outputs": [
    {
     "data": {
      "text/plain": [
       "'https://pics.venmo.com/f092255a-e9e8-48e9-afb7-22b2e2a45b8b?width=50&height=50&photoVersion=3&facebook=true'"
      ]
     },
     "execution_count": 136,
     "metadata": {},
     "output_type": "execute_result"
    }
   ],
   "source": [
    "friend.profile_picture_url"
   ]
  },
  {
   "cell_type": "code",
   "execution_count": 132,
   "metadata": {},
   "outputs": [
    {
     "data": {
      "text/plain": [
       "' '"
      ]
     },
     "execution_count": 132,
     "metadata": {},
     "output_type": "execute_result"
    }
   ],
   "source": []
  },
  {
   "cell_type": "code",
   "execution_count": 126,
   "metadata": {},
   "outputs": [
    {
     "data": {
      "text/plain": [
       "datetime.date(2018, 2, 28)"
      ]
     },
     "execution_count": 126,
     "metadata": {},
     "output_type": "execute_result"
    }
   ],
   "source": [
    "from datetime import date\n",
    "date.fromtimestamp(transaction2[-1].date_created)"
   ]
  },
  {
   "cell_type": "code",
   "execution_count": 116,
   "metadata": {},
   "outputs": [],
   "source": [
    "users = venmo.user.search_for_users(query=\"\",\n",
    "                                    page=2)\n",
    "\n",
    "usernames = [dude.username for dude in users]"
   ]
  },
  {
   "cell_type": "code",
   "execution_count": 117,
   "metadata": {},
   "outputs": [
    {
     "data": {
      "text/plain": [
       "[]"
      ]
     },
     "execution_count": 117,
     "metadata": {},
     "output_type": "execute_result"
    }
   ],
   "source": []
  },
  {
   "cell_type": "code",
   "execution_count": 85,
   "metadata": {},
   "outputs": [],
   "source": [
    "stranger_transactions = venmo.user.get_user_transactions(user = users[2])"
   ]
  },
  {
   "cell_type": "code",
   "execution_count": 91,
   "metadata": {},
   "outputs": [
    {
     "data": {
      "text/plain": [
       "'Tim-Kimsky'"
      ]
     },
     "execution_count": 91,
     "metadata": {},
     "output_type": "execute_result"
    }
   ],
   "source": []
  },
  {
   "cell_type": "code",
   "execution_count": 118,
   "metadata": {},
   "outputs": [
    {
     "data": {
      "text/plain": [
       "{('1211798632005632671', '1350836974256128854'),\n",
       " ('1324732003647488965', '1350836974256128854'),\n",
       " ('1350836974256128854', '1373268523089920988'),\n",
       " ('1350836974256128854', '1545098168893440136'),\n",
       " ('1350836974256128854', '1554742132080640116'),\n",
       " ('1350836974256128854', '1588806775996416333'),\n",
       " ('1350836974256128854', '1608773021990912422'),\n",
       " ('1350836974256128854', '1626820600397824398'),\n",
       " ('1350836974256128854', '1648062434902016149'),\n",
       " ('1350836974256128854', '1700438235676672478'),\n",
       " ('1350836974256128854', '1705324474007552775'),\n",
       " ('1350836974256128854', '1839913733455872495'),\n",
       " ('1539091850067968476', '1350836974256128854'),\n",
       " ('1545098168893440136', '1350836974256128854'),\n",
       " ('1554742132080640116', '1350836974256128854'),\n",
       " ('1588806775996416333', '1350836974256128854'),\n",
       " ('1723448061591552445', '1350836974256128854'),\n",
       " ('1839913733455872495', '1350836974256128854'),\n",
       " ('1958692563976192834', '1350836974256128854')}"
      ]
     },
     "execution_count": 118,
     "metadata": {},
     "output_type": "execute_result"
    }
   ],
   "source": [
    "{(transaction.actor.id,transaction.target.id) for transaction in transactions}"
   ]
  },
  {
   "cell_type": "code",
   "execution_count": 42,
   "metadata": {},
   "outputs": [
    {
     "name": "stdout",
     "output_type": "stream",
     "text": [
      "Help on Transaction in module venmo_api.models.transaction object:\n",
      "\n",
      "class Transaction(builtins.object)\n",
      " |  Transaction(story_id, payment_id, date_completed, date_created, date_updated, payment_type, amount, audience, status, note, device_used, actor, target)\n",
      " |  \n",
      " |  Methods defined here:\n",
      " |  \n",
      " |  __init__(self, story_id, payment_id, date_completed, date_created, date_updated, payment_type, amount, audience, status, note, device_used, actor, target)\n",
      " |      Initialize self.  See help(type(self)) for accurate signature.\n",
      " |  \n",
      " |  __str__(self)\n",
      " |      Return str(self).\n",
      " |  \n",
      " |  ----------------------------------------------------------------------\n",
      " |  Class methods defined here:\n",
      " |  \n",
      " |  from_json(json) from builtins.type\n",
      " |      Create a new Transaction from the given json.\n",
      " |      This only works for transactions, skipping refunds and bank transfers.\n",
      " |      :param json:\n",
      " |      :return:\n",
      " |  \n",
      " |  ----------------------------------------------------------------------\n",
      " |  Data descriptors defined here:\n",
      " |  \n",
      " |  __dict__\n",
      " |      dictionary for instance variables (if defined)\n",
      " |  \n",
      " |  __weakref__\n",
      " |      list of weak references to the object (if defined)\n",
      "\n"
     ]
    }
   ],
   "source": [
    "help(transactions[0])"
   ]
  },
  {
   "cell_type": "code",
   "execution_count": 40,
   "metadata": {},
   "outputs": [
    {
     "data": {
      "text/plain": [
       "['1545098168893440136',\n",
       " '1350836974256128854',\n",
       " '1350836974256128854',\n",
       " '1554742132080640116',\n",
       " '1608773021990912422',\n",
       " '1350836974256128854',\n",
       " '1648062434902016149',\n",
       " '1350836974256128854',\n",
       " '1350836974256128854',\n",
       " '1839913733455872495',\n",
       " '1839913733455872495',\n",
       " '1839913733455872495',\n",
       " '1350836974256128854',\n",
       " '1350836974256128854',\n",
       " '1350836974256128854',\n",
       " '1350836974256128854',\n",
       " '1839913733455872495',\n",
       " '1373268523089920988',\n",
       " '1839913733455872495',\n",
       " '1700438235676672478',\n",
       " '1350836974256128854',\n",
       " '1350836974256128854',\n",
       " '1839913733455872495',\n",
       " '1839913733455872495',\n",
       " '1626820600397824398',\n",
       " '1350836974256128854',\n",
       " '1350836974256128854',\n",
       " '1350836974256128854',\n",
       " '1350836974256128854',\n",
       " '1350836974256128854',\n",
       " '1839913733455872495',\n",
       " '1588806775996416333',\n",
       " '1350836974256128854',\n",
       " '1350836974256128854',\n",
       " '1350836974256128854',\n",
       " '1350836974256128854',\n",
       " '1350836974256128854',\n",
       " '1839913733455872495',\n",
       " '1350836974256128854',\n",
       " '1350836974256128854',\n",
       " '1839913733455872495',\n",
       " '1350836974256128854',\n",
       " '1839913733455872495',\n",
       " '1350836974256128854',\n",
       " '1705324474007552775',\n",
       " '1350836974256128854',\n",
       " '1350836974256128854',\n",
       " '1839913733455872495',\n",
       " '1350836974256128854']"
      ]
     },
     "execution_count": 40,
     "metadata": {},
     "output_type": "execute_result"
    }
   ],
   "source": []
  },
  {
   "cell_type": "code",
   "execution_count": 25,
   "metadata": {},
   "outputs": [
    {
     "name": "stdout",
     "output_type": "stream",
     "text": [
      "Help on UserApi in module venmo_api.apis.user_api object:\n",
      "\n",
      "class UserApi(builtins.object)\n",
      " |  UserApi(api_client)\n",
      " |  \n",
      " |  Methods defined here:\n",
      " |  \n",
      " |  __init__(self, api_client)\n",
      " |      Initialize self.  See help(type(self)) for accurate signature.\n",
      " |  \n",
      " |  get_my_profile(self, callback=None)\n",
      " |      Get my profile info and return as a <User>\n",
      " |      :return my_profile: <User>\n",
      " |  \n",
      " |  get_transaction_between_two_users(self, user_id_one: str = None, user_id_two: str = None, user_one: venmo_api.models.user.User = None, user_two: venmo_api.models.user.User = None, callback=None, count: int = 50, before_id=None) -> Union[venmo_api.models.transaction.Transaction, NoneType]\n",
      " |      Get the transactions between two users. Note that user_one must be the owner of the access token.\n",
      " |      Otherwise it raises an unauthorized error.\n",
      " |      :param user_id_one:\n",
      " |      :param user_id_two:\n",
      " |      :param user_one:\n",
      " |      :param user_two:\n",
      " |      :param callback:\n",
      " |      :param count:\n",
      " |      :param before_id:\n",
      " |      :return:\n",
      " |  \n",
      " |  get_user(self, user_id: str, callback=None) -> Union[venmo_api.models.user.User, NoneType]\n",
      " |      Get the user profile with [user_id]\n",
      " |      :param user_id: <str>, example: '2859950549165568970'\n",
      " |      :param callback: <function>\n",
      " |      :return user: <User> <NoneType>\n",
      " |  \n",
      " |  get_user_friends_list(self, user_id: str = None, user: venmo_api.models.user.User = None, callback=None, page: int = 1, count: int = 1337) -> Union[venmo_api.models.user.User, NoneType]\n",
      " |      Get ([user_id]'s or [user]'s) friends list as a list of <User>s\n",
      " |      :return users_list: <list> A list of <User> objects or empty\n",
      " |  \n",
      " |  get_user_transactions(self, user_id: str = None, user: venmo_api.models.user.User = None, callback=None, count: int = 50, before_id=None) -> Union[venmo_api.models.transaction.Transaction, NoneType]\n",
      " |      Get ([user_id]'s or [user]'s) transactions visible to yourself as a list of <Transaction>s\n",
      " |      :param user_id:\n",
      " |      :param user:\n",
      " |      :param callback:\n",
      " |      :param count:\n",
      " |      :param before_id:\n",
      " |      :return:\n",
      " |  \n",
      " |  search_for_users(self, query: str, callback=None, page: int = 1, count: int = 50) -> Union[List[venmo_api.models.user.User], NoneType]\n",
      " |      search for [query] in users\n",
      " |      :param query: <str>\n",
      " |      :param callback: <function>\n",
      " |      :param count: <int>\n",
      " |      :param page: <int>\n",
      " |      :return users_list: <list> A list of <User> objects or empty\n",
      " |  \n",
      " |  ----------------------------------------------------------------------\n",
      " |  Data descriptors defined here:\n",
      " |  \n",
      " |  __dict__\n",
      " |      dictionary for instance variables (if defined)\n",
      " |  \n",
      " |  __weakref__\n",
      " |      list of weak references to the object (if defined)\n",
      "\n"
     ]
    }
   ],
   "source": [
    "\n",
    "help(venmo.user)\n"
   ]
  },
  {
   "cell_type": "raw",
   "metadata": {},
   "source": []
  },
  {
   "cell_type": "code",
   "execution_count": null,
   "metadata": {},
   "outputs": [],
   "source": []
  },
  {
   "cell_type": "code",
   "execution_count": 22,
   "metadata": {},
   "outputs": [
    {
     "data": {
      "text/plain": [
       "[]"
      ]
     },
     "execution_count": 22,
     "metadata": {},
     "output_type": "execute_result"
    }
   ],
   "source": [
    "\n",
    "                                     "
   ]
  },
  {
   "cell_type": "code",
   "execution_count": null,
   "metadata": {},
   "outputs": [],
   "source": []
  }
 ],
 "metadata": {
  "kernelspec": {
   "display_name": "Python 3",
   "language": "python",
   "name": "python3"
  },
  "language_info": {
   "codemirror_mode": {
    "name": "ipython",
    "version": 3
   },
   "file_extension": ".py",
   "mimetype": "text/x-python",
   "name": "python",
   "nbconvert_exporter": "python",
   "pygments_lexer": "ipython3",
   "version": "3.8.2"
  }
 },
 "nbformat": 4,
 "nbformat_minor": 4
}
