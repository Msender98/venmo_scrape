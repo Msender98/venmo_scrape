{
 "cells": [
  {
   "cell_type": "markdown",
   "metadata": {},
   "source": [
    "### Venmo Python API\n",
    "\n",
    "This notebook goes through some of the basic usage of the venmo_api with python for usage with networking. More documentation available [here]('https://venmo.readthedocs.io/en/latest/')."
   ]
  },
  {
   "cell_type": "code",
   "execution_count": 1,
   "metadata": {},
   "outputs": [],
   "source": [
    "from venmo_api import Client \n",
    "import config #local file listing users venmo credentials"
   ]
  },
  {
   "cell_type": "code",
   "execution_count": 2,
   "metadata": {},
   "outputs": [
    {
     "name": "stdout",
     "output_type": "stream",
     "text": [
      "\u001b[93mIMPORTANT: Take a note of your device id to avoid 2-Factor-Authentication for your next login.\u001b[0m\n",
      "device-id: 86354220-15D2-2O45-00U6-3WJ02V247RQ9\n",
      "\u001b[93mIMPORTANT: Your Access Token will never expire, unless you logout using it. Take a note of it for your future use or even for logging out, you will need it.\n",
      "\u001b[0m\n",
      "\u001b[94mSuccessfully logged in.\u001b[0m\n",
      "access_token: 2011160477e8f76900831a182817c3e57588c585a1005ca929b9c38880dd4653\n"
     ]
    }
   ],
   "source": [
    "#The app must be logged in with a unique access_token. If you know your device_id you can skip two factor authentication\n",
    "#The access_token does not expire! It can be used indefinitely but unless is saved locally it is better to logout. \n",
    "#again but is best practice to logout\n",
    "access_token = Client.get_access_token(username = config.username,\n",
    "                                        password = config.password, device_id = config.device_id)\n",
    "\n"
   ]
  },
  {
   "cell_type": "code",
   "execution_count": 3,
   "metadata": {},
   "outputs": [],
   "source": [
    "#This will login to the venmo client using the access_token \n",
    "venmo = Client(access_token = access_token)"
   ]
  },
  {
   "cell_type": "code",
   "execution_count": 8,
   "metadata": {},
   "outputs": [
    {
     "name": "stdout",
     "output_type": "stream",
     "text": [
      "\u001b[94mSuccessfully logged out.\u001b[0m\n"
     ]
    },
    {
     "data": {
      "text/plain": [
       "True"
      ]
     },
     "execution_count": 8,
     "metadata": {},
     "output_type": "execute_result"
    }
   ],
   "source": [
    "#This will logout of the client\n",
    "venmo.log_out(f\"Bearer {access_token}\")"
   ]
  },
  {
   "cell_type": "code",
   "execution_count": 4,
   "metadata": {},
   "outputs": [],
   "source": [
    "#Gets your user object\n",
    "user = venmo.user.get_my_profile()"
   ]
  },
  {
   "cell_type": "code",
   "execution_count": 7,
   "metadata": {},
   "outputs": [
    {
     "data": {
      "text/plain": [
       "('1350836974256128854', 'Mike-Sender')"
      ]
     },
     "execution_count": 7,
     "metadata": {},
     "output_type": "execute_result"
    }
   ],
   "source": [
    "#Example attributes\n",
    "user.id, user.username"
   ]
  },
  {
   "cell_type": "code",
   "execution_count": 9,
   "metadata": {},
   "outputs": [
    {
     "data": {
      "text/plain": [
       "[('Wes-Wong', 'Mike-Sender'),\n",
       " ('Mike-Sender', 'Rachel-Payne-2'),\n",
       " ('Rachel-Sender', 'Mike-Sender'),\n",
       " ('JoshSender', 'Mike-Sender'),\n",
       " ('Mike-Sender', 'Ben-Sender'),\n",
       " ('Mike-Sender', 'Ilya-Yudkovich'),\n",
       " ('Anna-Membrino', 'Mike-Sender'),\n",
       " ('Mike-Sender', 'david_wang'),\n",
       " ('Wes-Wong', 'Mike-Sender'),\n",
       " ('Anna-Membrino', 'Mike-Sender'),\n",
       " ('Mike-Sender', 'Anna-Membrino'),\n",
       " ('Mike-Sender', 'Anna-Membrino'),\n",
       " ('Mike-Sender', 'Anna-Membrino'),\n",
       " ('Cassandra-Wong-4', 'Mike-Sender'),\n",
       " ('Anna-Membrino', 'Mike-Sender'),\n",
       " ('Anna-Membrino', 'Mike-Sender'),\n",
       " ('Anna-Membrino', 'Mike-Sender'),\n",
       " ('Mike-Sender', 'Anna-Membrino'),\n",
       " ('Mike-Sender', 'kerrychang'),\n",
       " ('Mike-Sender', 'Anna-Membrino'),\n",
       " ('Mike-Sender', 'Katie-Talay'),\n",
       " ('Brittany-Kaplan-4', 'Mike-Sender'),\n",
       " ('Rachel-Payne-2', 'Mike-Sender'),\n",
       " ('Mike-Sender', 'Anna-Membrino'),\n",
       " ('Mike-Sender', 'Anna-Membrino'),\n",
       " ('Mike-Sender', 'Alex-Dagley'),\n",
       " ('JoshSender', 'Mike-Sender'),\n",
       " ('Rachel-Sender', 'Mike-Sender'),\n",
       " ('Ben-Sender', 'Mike-Sender'),\n",
       " ('Anna-Membrino', 'Mike-Sender'),\n",
       " ('Anna-Membrino', 'Mike-Sender'),\n",
       " ('Mike-Sender', 'Anna-Membrino'),\n",
       " ('Mike-Sender', 'Ben-Katz-5'),\n",
       " ('Ben-Katz-5', 'Mike-Sender'),\n",
       " ('Anna-Membrino', 'Mike-Sender'),\n",
       " ('Anna-Membrino', 'Mike-Sender'),\n",
       " ('Brittany-Kaplan-4', 'Mike-Sender'),\n",
       " ('Anna-Membrino', 'Mike-Sender'),\n",
       " ('Mike-Sender', 'Anna-Membrino'),\n",
       " ('Anna-Membrino', 'Mike-Sender'),\n",
       " ('Anna-Membrino', 'Mike-Sender'),\n",
       " ('Mike-Sender', 'Anna-Membrino'),\n",
       " ('Anna-Membrino', 'Mike-Sender'),\n",
       " ('Mike-Sender', 'Anna-Membrino'),\n",
       " ('Anna-Membrino', 'Mike-Sender'),\n",
       " ('Mike-Sender', 'lwoodzz'),\n",
       " ('Anna-Membrino', 'Mike-Sender'),\n",
       " ('Anna-Membrino', 'Mike-Sender'),\n",
       " ('Mike-Sender', 'Anna-Membrino')]"
      ]
     },
     "execution_count": 9,
     "metadata": {},
     "output_type": "execute_result"
    }
   ],
   "source": [
    "#This function returns the 50 last transactions\n",
    "transactions = venmo.user.get_user_transactions(user_id = user.id)\n",
    "#Prints the usernames of each transaction\n",
    "[(transaction.actor.username, transaction.target.username) for transaction in transactions]"
   ]
  },
  {
   "cell_type": "code",
   "execution_count": 101,
   "metadata": {},
   "outputs": [],
   "source": [
    "import networkx as nx #network analysis package\n",
    "\n",
    "G3 = nx.MultiGraph()\n",
    "\n",
    "\n"
   ]
  },
  {
   "cell_type": "code",
   "execution_count": 61,
   "metadata": {},
   "outputs": [],
   "source": [
    "def neighbors_graph(user_id, G, levels):\n",
    "    '''Create a graph of venmo transactions from a given user_id\n",
    "    \n",
    "    user_id = venmo.user.id\n",
    "    G = nx.MultiGraph\n",
    "    levels = distance from the initial user_id to generate\n",
    "    \n",
    "    '''\n",
    "       \n",
    "    user_levels = {user_id}\n",
    "    nodes = {user_id}\n",
    "    \n",
    "    for level in range(levels):\n",
    "        \n",
    "                   \n",
    "        for x in user_levels:\n",
    "            print(x)\n",
    "            try:\n",
    "                transactions = venmo.user.get_user_transactions(user_id = x)\n",
    "                \n",
    "                G.add_edges_from(((transaction.actor.id, transaction.target.id) for transaction in transactions))\n",
    "            \n",
    "                nodes = nodes.union({transaction.target.id for transaction in transactions}.union(\n",
    "                                {transaction.actor.id for transaction in transactions}))\n",
    "               \n",
    "                G.add_nodes_from(nodes)\n",
    "            except:\n",
    "                \n",
    "                pass\n",
    "            \n",
    "        user_levels = nodes.difference(user_levels)\n",
    "\n",
    "    \n"
   ]
  },
  {
   "cell_type": "code",
   "execution_count": 102,
   "metadata": {},
   "outputs": [],
   "source": [
    "neighbors_graph(user.id, G3, 3)"
   ]
  },
  {
   "cell_type": "code",
   "execution_count": 73,
   "metadata": {},
   "outputs": [],
   "source": [
    "personalization ={user.id:1}"
   ]
  },
  {
   "cell_type": "code",
   "execution_count": 142,
   "metadata": {},
   "outputs": [],
   "source": [
    "ranked2 = nx.pagerank_numpy(G2, personalization = personalization)"
   ]
  },
  {
   "cell_type": "code",
   "execution_count": 143,
   "metadata": {},
   "outputs": [],
   "source": [
    "ranked2 = {venmo.user.get_user(k).username : v for k, v in sorted(ranked2.items(), key=lambda item: item[1], reverse = True)}"
   ]
  },
  {
   "cell_type": "code",
   "execution_count": 136,
   "metadata": {},
   "outputs": [
    {
     "data": {
      "text/plain": [
       "0.00217765346818369"
      ]
     },
     "execution_count": 136,
     "metadata": {},
     "output_type": "execute_result"
    }
   ],
   "source": [
    "ranked2['1608773021990912422']"
   ]
  },
  {
   "cell_type": "code",
   "execution_count": 14,
   "metadata": {},
   "outputs": [],
   "source": [
    "#The set of all users in the above transactions\n",
    "level_1_users = {transaction.target.id for transaction in transactions if transaction.target.id != user.id}.union(\n",
    "                {transaction.actor.id for transaction in transactions if transaction.actor.id != user.id})\n",
    "                                    "
   ]
  },
  {
   "cell_type": "code",
   "execution_count": 17,
   "metadata": {},
   "outputs": [],
   "source": [
    "#Functions which automates above cells for \n",
    "def neighbors(user_id):\n",
    "    #Get through error if get_user_transactions runs into an error        \n",
    "    try:\n",
    "        transactions = venmo.user.get_user_transactions(user_id = user_id)\n",
    "        new_users = {transaction.target.id for transaction in transactions if transaction.target.id != user_id}.union(\\\n",
    "                {transaction.actor.id for transaction in transactions if transaction.actor.id != user_id})\n",
    "    except:\n",
    "        #show the user_id which raised an error\n",
    "        print(user_id)\n",
    "        new_users = []\n",
    "    return new_users\n",
    "        \n",
    "        "
   ]
  },
  {
   "cell_type": "code",
   "execution_count": 12,
   "metadata": {},
   "outputs": [
    {
     "name": "stdout",
     "output_type": "stream",
     "text": [
      "1539091850067968476\n"
     ]
    }
   ],
   "source": [
    "#Find all the users within 2 transactions from the original user... (me)\n",
    "nodes = level_1_users\n",
    "for user_id in level_1_users:\n",
    "    if user_id != None:\n",
    "        nodes = nodes.union(neighbors(user_id))\n",
    "    \n",
    "\n",
    "        "
   ]
  },
  {
   "cell_type": "code",
   "execution_count": 26,
   "metadata": {},
   "outputs": [],
   "source": [
    "def callback(transactions_list):\n",
    "    for transaction in transactions_list:\n",
    "        try:\n",
    "            print(transaction)\n",
    "        except:\n",
    "            pass\n",
    "            "
   ]
  },
  {
   "cell_type": "code",
   "execution_count": 29,
   "metadata": {},
   "outputs": [
    {
     "name": "stderr",
     "output_type": "stream",
     "text": [
      "Exception in thread Thread-7:\n",
      "ValueError: 'disbursement' is not a valid TransactionType\n",
      "\n",
      "During handling of the above exception, another exception occurred:\n",
      "\n",
      "Traceback (most recent call last):\n",
      "  File \"c:\\users\\msend\\appdata\\local\\programs\\python\\python38-32\\lib\\threading.py\", line 932, in _bootstrap_inner\n",
      "    self.run()\n",
      "  File \"c:\\users\\msend\\appdata\\local\\programs\\python\\python38-32\\lib\\threading.py\", line 870, in run\n",
      "    self._target(*self._args, **self._kwargs)\n",
      "  File \"c:\\users\\msend\\appdata\\local\\programs\\python\\python38-32\\lib\\site-packages\\venmo_api\\utils\\api_client.py\", line 110, in __call_api\n",
      "    callback(processed_response)\n",
      "  File \"c:\\users\\msend\\appdata\\local\\programs\\python\\python38-32\\lib\\site-packages\\venmo_api\\utils\\api_util.py\", line 63, in wrapper\n",
      "    deserialized_data = deserialize(response=response, data_type=data_type, nested_response=nested_response)\n",
      "  File \"c:\\users\\msend\\appdata\\local\\programs\\python\\python38-32\\lib\\site-packages\\venmo_api\\utils\\api_util.py\", line 43, in deserialize\n",
      "    return __get_objs_from_json_list(json_list=data, data_type=data_type)\n",
      "  File \"c:\\users\\msend\\appdata\\local\\programs\\python\\python38-32\\lib\\site-packages\\venmo_api\\utils\\api_util.py\", line 77, in __get_objs_from_json_list\n",
      "    data_obj = data_type.from_json(obj)\n",
      "  File \"c:\\users\\msend\\appdata\\local\\programs\\python\\python38-32\\lib\\site-packages\\venmo_api\\models\\transaction.py\", line 47, in from_json\n",
      "    transaction_type = TransactionType(parser.get_transaction_type())\n",
      "  File \"c:\\users\\msend\\appdata\\local\\programs\\python\\python38-32\\lib\\enum.py\", line 304, in __call__\n",
      "    return cls.__new__(cls, value)\n",
      "  File \"c:\\users\\msend\\appdata\\local\\programs\\python\\python38-32\\lib\\enum.py\", line 595, in __new__\n",
      "    raise exc\n",
      "  File \"c:\\users\\msend\\appdata\\local\\programs\\python\\python38-32\\lib\\enum.py\", line 579, in __new__\n",
      "    result = cls._missing_(value)\n",
      "  File \"c:\\users\\msend\\appdata\\local\\programs\\python\\python38-32\\lib\\enum.py\", line 608, in _missing_\n",
      "    raise ValueError(\"%r is not a valid %s\" % (value, cls.__name__))\n",
      "ValueError: 'disbursement' is not a valid TransactionType\n"
     ]
    }
   ],
   "source": [
    "#error raising id for debugging: 1539091850067968476\n",
    "transactions = venmo.user.get_user_transactions(user_id = '1539091850067968476',callback = callback)"
   ]
  },
  {
   "cell_type": "code",
   "execution_count": 30,
   "metadata": {},
   "outputs": [],
   "source": [
    "transactions"
   ]
  },
  {
   "cell_type": "code",
   "execution_count": 18,
   "metadata": {},
   "outputs": [
    {
     "name": "stdout",
     "output_type": "stream",
     "text": [
      "1481509928173568655\n",
      "913641482223616436\n",
      "1504694404907008443\n",
      "1536217610977280482\n",
      "1410483659735040880\n",
      "1485696070057984261\n",
      "1172857195331584019\n",
      "442240501547008808\n",
      "1518391609262080730\n",
      "910789783322624812\n",
      "1476088664424449002\n",
      "2211931268055040282\n",
      "2577995902484480887\n",
      "1416214219849728255\n",
      "1058956877234176589\n",
      "1376437529477120827\n",
      "1539091850067968476\n"
     ]
    }
   ],
   "source": [
    "#3 transactions from me\n",
    "nodes2 = nodes.copy()\n",
    "for user_id in nodes2:\n",
    "    if user_id != None:\n",
    "        nodes = nodes.union(neighbors(user_id))\n",
    "    "
   ]
  },
  {
   "cell_type": "code",
   "execution_count": 19,
   "metadata": {},
   "outputs": [
    {
     "data": {
      "text/plain": [
       "9766"
      ]
     },
     "execution_count": 19,
     "metadata": {},
     "output_type": "execute_result"
    }
   ],
   "source": [
    "len(nodes)"
   ]
  },
  {
   "cell_type": "code",
   "execution_count": null,
   "metadata": {},
   "outputs": [],
   "source": []
  }
 ],
 "metadata": {
  "kernelspec": {
   "display_name": "Python 3",
   "language": "python",
   "name": "python3"
  },
  "language_info": {
   "codemirror_mode": {
    "name": "ipython",
    "version": 3
   },
   "file_extension": ".py",
   "mimetype": "text/x-python",
   "name": "python",
   "nbconvert_exporter": "python",
   "pygments_lexer": "ipython3",
   "version": "3.8.2"
  }
 },
 "nbformat": 4,
 "nbformat_minor": 4
}
